{
 "cells": [
  {
   "cell_type": "markdown",
   "source": [
    "$$\\frac{dT}{dt} = \\frac{2\\pi r h}{C_p (\\rho \\pi r^2 + \\frac{\\dot m}{\\rho \\pi r^2})} (T_{abs} -T)$$"
   ],
   "metadata": {}
  },
  {
   "cell_type": "code",
   "execution_count": 53,
   "source": [
    "import matplotlib.pyplot as plt\n",
    "import numpy as np\n",
    "from scipy.integrate import odeint\n",
    "from materials import Water\n",
    "\n",
    "time_final = 500\n",
    "time_step = 1\n",
    "rho = 1000      # density (kg/m3)\n",
    "r = 10/1000     # tube inner diameter (m)\n",
    "h = 286.8       # water heat transfer coefficient (W/m.k)\n",
    "t_abs = 306.5   # absorber temperature (K)\n",
    "# t_water = 302.1 # water temperature (K) values from here https://github.com/orestispanago/FPC-Thermal-Model\n",
    "cp_water = 4200 # water heat capacity (J/kg.K)\n",
    "\n",
    "flow_per_tube = 6.85            # mass flow rate per tube (L/h)\n",
    "Vdot = flow_per_tube / 3.6e+6   # volume flow rate per tube (m**3/s)\n",
    "mdot = Vdot * rho               # mass flow rate per tube (Kg/s)\n",
    "\n",
    "\n",
    "water = Water()\n",
    "\n",
    "\n",
    "def model(T, t):\n",
    "    rho = water.rho(T)\n",
    "    cp_water = water.cp(T)\n",
    "    rho_pi_r2 = rho * np.pi * r**2\n",
    "    dTdt = 2*np.pi * r * h / (cp_water*(rho_pi_r2 + mdot/rho_pi_r2))*(t_abs - T)\n",
    "    return dTdt\n",
    "\n",
    "T0 = 280\n",
    "\n",
    "t = np.arange(0, time_final, time_step)\n",
    "T = odeint(model, T0, t)\n",
    "\n",
    "\n",
    "plt.plot(t, T, label=\"T\")\n",
    "plt.xlabel(\"time\")\n",
    "plt.ylabel(\"T\")\n",
    "plt.legend()\n",
    "plt.show()\n"
   ],
   "outputs": [
    {
     "output_type": "display_data",
     "data": {
      "image/png": "[encoded data removed]",
      "text/plain": [
       "<Figure size 432x288 with 1 Axes>"
      ]
     },
     "metadata": {
      "needs_background": "light"
     }
    }
   ],
   "metadata": {}
  }
 ],
 "metadata": {
  "orig_nbformat": 4,
  "language_info": {
   "name": "python",
   "version": "3.8.5",
   "mimetype": "text/x-python",
   "codemirror_mode": {
    "name": "ipython",
    "version": 3
   },
   "pygments_lexer": "ipython3",
   "nbconvert_exporter": "python",
   "file_extension": ".py"
  },
  "kernelspec": {
   "name": "python3",
   "display_name": "Python 3.8.5 64-bit ('base': conda)"
  },
  "interpreter": {
   "hash": "1f85fff8cbc4a83a96f1beacbe26fdfcebe2ebe2bc651aaf87a6d79f20e4abab"
  }
 },
 "nbformat": 4,
 "nbformat_minor": 2
}